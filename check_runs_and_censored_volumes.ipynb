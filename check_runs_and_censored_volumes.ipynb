{
 "cells": [
  {
   "cell_type": "code",
   "execution_count": 12,
   "metadata": {},
   "outputs": [],
   "source": [
    "import re\n",
    "import os.path as op\n",
    "from glob import glob\n",
    "\n",
    "import numpy as np\n",
    "import nibabel as nib\n",
    "import pandas as pd\n",
    "\n",
    "\n",
    "def get_run(file_):\n",
    "    \"\"\"\n",
    "    Get run substring from filename\n",
    "    \"\"\"\n",
    "    return re.findall('(run-[0-9]+)_', file_)[0]"
   ]
  },
  {
   "cell_type": "code",
   "execution_count": 11,
   "metadata": {
    "scrolled": false
   },
   "outputs": [],
   "source": [
    "# Determine number of runs per subject and print out any missing data\n",
    "subs = sorted(glob('first-levels/sub-*'))\n",
    "for sub in subs:\n",
    "    files = sorted(glob(op.join(sub, '*.tsv')))\n",
    "    runs = sorted(list(set([get_run(f) for f in files])))\n",
    "    n_runs = len(runs)\n",
    "    if n_runs != 4:\n",
    "        print('{0}: {1}'.format(op.basename(sub), n_runs))"
   ]
  },
  {
   "cell_type": "code",
   "execution_count": 15,
   "metadata": {},
   "outputs": [],
   "source": [
    "# Determine number of censored volumes per run per subject\n",
    "subs = sorted(glob('first-levels/sub-*'))\n",
    "out_df = pd.DataFrame(columns=['run-01', 'run-02', 'run-03', 'run-04'])\n",
    "for sub in subs:\n",
    "    files = sorted(glob(op.join(sub, '*.tsv')))\n",
    "    for f in files:\n",
    "        run = get_run(f)\n",
    "        df = pd.read_csv(f, sep='\\t')\n",
    "        cens_cols = [c for c in df.columns if c.startswith('censor')]\n",
    "        out_df.loc[op.basename(sub), run] = len(cens_cols)"
   ]
  },
  {
   "cell_type": "code",
   "execution_count": 23,
   "metadata": {},
   "outputs": [
    {
     "name": "stdout",
     "output_type": "stream",
     "text": [
      "6.627314814814815\n",
      "26.50925925925926\n"
     ]
    }
   ],
   "source": [
    "print(out_df.mean(axis=1).mean())\n",
    "print(out_df.sum(axis=1).mean())"
   ]
  },
  {
   "cell_type": "code",
   "execution_count": null,
   "metadata": {},
   "outputs": [],
   "source": []
  }
 ],
 "metadata": {
  "kernelspec": {
   "display_name": "Python 3",
   "language": "python",
   "name": "python3"
  },
  "language_info": {
   "codemirror_mode": {
    "name": "ipython",
    "version": 3
   },
   "file_extension": ".py",
   "mimetype": "text/x-python",
   "name": "python",
   "nbconvert_exporter": "python",
   "pygments_lexer": "ipython3",
   "version": "3.6.2"
  }
 },
 "nbformat": 4,
 "nbformat_minor": 2
}
