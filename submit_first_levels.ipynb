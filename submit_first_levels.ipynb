{
 "cells": [
  {
   "cell_type": "code",
   "execution_count": 1,
   "metadata": {},
   "outputs": [],
   "source": [
    "import subprocess\n",
    "import os.path as op\n",
    "from glob import glob\n",
    "\n",
    "# Local import\n",
    "import utils"
   ]
  },
  {
   "cell_type": "code",
   "execution_count": 2,
   "metadata": {},
   "outputs": [
    {
     "name": "stdout",
     "output_type": "stream",
     "text": [
      "['sub-001', 'sub-002', 'sub-003', 'sub-004', 'sub-005', 'sub-006', 'sub-007', 'sub-008', 'sub-009', 'sub-010', 'sub-011', 'sub-013', 'sub-014', 'sub-015', 'sub-016', 'sub-017', 'sub-018', 'sub-019', 'sub-020', 'sub-021', 'sub-022', 'sub-024', 'sub-025', 'sub-026', 'sub-027', 'sub-029', 'sub-030', 'sub-031', 'sub-032', 'sub-033', 'sub-035', 'sub-036', 'sub-037', 'sub-038', 'sub-039', 'sub-040', 'sub-041', 'sub-043', 'sub-044', 'sub-045', 'sub-046', 'sub-047', 'sub-049', 'sub-050', 'sub-051', 'sub-052', 'sub-053', 'sub-054', 'sub-055', 'sub-056', 'sub-057', 'sub-058', 'sub-059', 'sub-060', 'sub-061', 'sub-062', 'sub-063', 'sub-064', 'sub-066', 'sub-067', 'sub-068', 'sub-069', 'sub-070', 'sub-071', 'sub-072', 'sub-073', 'sub-074', 'sub-075', 'sub-076', 'sub-077', 'sub-079', 'sub-080', 'sub-081', 'sub-082', 'sub-083', 'sub-084', 'sub-085', 'sub-087', 'sub-088', 'sub-089', 'sub-090', 'sub-092', 'sub-093', 'sub-094', 'sub-095', 'sub-096', 'sub-098', 'sub-099', 'sub-100', 'sub-102', 'sub-103', 'sub-104', 'sub-105', 'sub-106', 'sub-107', 'sub-108', 'sub-109', 'sub-110', 'sub-112', 'sub-113', 'sub-114', 'sub-115', 'sub-116', 'sub-117', 'sub-118', 'sub-119', 'sub-120', 'sub-121', 'sub-123', 'sub-124']\n"
     ]
    }
   ],
   "source": [
    "subs = utils.get_subjects()\n",
    "betas_loss = [glob(op.join('/scratch/kbott/narps/derivatives/first-levels', sub, '*betas.nii.gz')) for sub in subs]\n",
    "betas_loss = [v for sl in betas_loss for v in sl]\n",
    "done = [op.basename(op.dirname(f)) for f in betas_loss]\n",
    "not_done = sorted(list(set(subs) - set(done)))\n",
    "print(not_done)"
   ]
  },
  {
   "cell_type": "code",
   "execution_count": 3,
   "metadata": {},
   "outputs": [],
   "source": [
    "with open('first_level_template.sub', 'r') as fo:\n",
    "    data = fo.read()\n",
    "\n",
    "for sub in not_done[:2]:\n",
    "    sub_data = data.format(sub=sub)\n",
    "\n",
    "    file_ = 'jobfiles/first_level_sub-{0}.sub'.format(sub)\n",
    "    with open(file_, 'w') as fo:\n",
    "        fo.write(sub_data)\n",
    "    \n",
    "    sub_str = 'bsub<{0}'.format(file_)\n",
    "    process = subprocess.Popen(sub_str, shell=True)"
   ]
  }
 ],
 "metadata": {
  "kernelspec": {
   "display_name": "Python 3",
   "language": "python",
   "name": "python3"
  },
  "language_info": {
   "codemirror_mode": {
    "name": "ipython",
    "version": 3
   },
   "file_extension": ".py",
   "mimetype": "text/x-python",
   "name": "python",
   "nbconvert_exporter": "python",
   "pygments_lexer": "ipython3",
   "version": "3.6.2"
  }
 },
 "nbformat": 4,
 "nbformat_minor": 1
}
