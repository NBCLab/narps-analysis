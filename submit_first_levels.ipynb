{
 "cells": [
  {
   "cell_type": "code",
   "execution_count": 1,
   "metadata": {},
   "outputs": [],
   "source": [
    "import subprocess\n",
    "import os.path as op\n",
    "from glob import glob\n",
    "\n",
    "# Local import\n",
    "import utils"
   ]
  },
  {
   "cell_type": "code",
   "execution_count": 4,
   "metadata": {
    "scrolled": true
   },
   "outputs": [
    {
     "name": "stdout",
     "output_type": "stream",
     "text": [
      "2\n",
      "['sub-007', 'sub-031']\n"
     ]
    }
   ],
   "source": [
    "subs = utils.get_subjects()\n",
    "betas_loss = [glob(op.join('/home/data/nbc/Laird_NARPS/derivatives/first-levels', sub, '*loss*betas.nii.gz')) for sub in subs]\n",
    "betas_loss = [v for sl in betas_loss for v in sl]\n",
    "done = [op.basename(op.dirname(f)) for f in betas_loss]\n",
    "not_done = sorted(list(set(subs) - set(done)))\n",
    "print(len(not_done))\n",
    "print(not_done)\n",
    "#not_done = ['sub-068']\n",
    "\n",
    "# ['sub-007', 'sub-031'] are expected to be bad"
   ]
  },
  {
   "cell_type": "code",
   "execution_count": 3,
   "metadata": {},
   "outputs": [],
   "source": [
    "with open('first_level_template.sub', 'r') as fo:\n",
    "    data = fo.read()\n",
    "\n",
    "for sub in not_done:\n",
    "    sub_data = data.format(sub=sub)\n",
    "\n",
    "    file_ = 'jobfiles/first_level_sub-{0}.sub'.format(sub)\n",
    "    with open(file_, 'w') as fo:\n",
    "        fo.write(sub_data)\n",
    "    \n",
    "    sub_str = 'bsub<{0}'.format(file_)\n",
    "    process = subprocess.Popen(sub_str, shell=True)"
   ]
  },
  {
   "cell_type": "code",
   "execution_count": null,
   "metadata": {},
   "outputs": [],
   "source": []
  }
 ],
 "metadata": {
  "kernelspec": {
   "display_name": "Python 3",
   "language": "python",
   "name": "python3"
  },
  "language_info": {
   "codemirror_mode": {
    "name": "ipython",
    "version": 3
   },
   "file_extension": ".py",
   "mimetype": "text/x-python",
   "name": "python",
   "nbconvert_exporter": "python",
   "pygments_lexer": "ipython3",
   "version": "3.6.2"
  }
 },
 "nbformat": 4,
 "nbformat_minor": 1
}
